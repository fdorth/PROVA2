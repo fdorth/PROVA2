{
 "cells": [
  {
   "cell_type": "code",
   "execution_count": null,
   "id": "9a0b1cdd-f9a6-4d7a-a909-2c7e14439111",
   "metadata": {},
   "outputs": [],
   "source": [
    "consumo_diario = [ 50, 45, 55, 60, 48, 52, 47, 49, 53, 51, 50, 46, 54, 61, 49, 53, 48, 50, 52, 47, 56, 50, 55, 60, 48, 52, 47, 49, 53, 51 ]"
   ]
  },
  {
   "cell_type": "code",
   "execution_count": null,
   "id": "84e4f0b4-ab82-4586-aeaf-c8216c89e686",
   "metadata": {},
   "outputs": [],
   "source": [
    "def consumo(lista):\n",
    "    soma = 0\n",
    "    for i in lista:\n",
    "        soma += i\n",
    "    return soma/len(lista)"
   ]
  },
  {
   "cell_type": "code",
   "execution_count": null,
   "id": "218fc457-9fb2-4422-99d6-c8dd056738e7",
   "metadata": {},
   "outputs": [],
   "source": [
    "print(f\"O consumo diário médio foi: {consumo(consumo_diario)}\")"
   ]
  },
  {
   "cell_type": "code",
   "execution_count": null,
   "id": "b412fc05-3866-4d0d-a0be-794623965659",
   "metadata": {},
   "outputs": [],
   "source": []
  }
 ],
 "metadata": {
  "kernelspec": {
   "display_name": "Python [conda env:base] *",
   "language": "python",
   "name": "conda-base-py"
  },
  "language_info": {
   "codemirror_mode": {
    "name": "ipython",
    "version": 3
   },
   "file_extension": ".py",
   "mimetype": "text/x-python",
   "name": "python",
   "nbconvert_exporter": "python",
   "pygments_lexer": "ipython3",
   "version": "3.12.7"
  }
 },
 "nbformat": 4,
 "nbformat_minor": 5
}
